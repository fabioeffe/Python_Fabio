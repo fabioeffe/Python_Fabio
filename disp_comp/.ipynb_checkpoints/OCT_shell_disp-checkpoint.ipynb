{
 "cells": [
  {
   "cell_type": "markdown",
   "metadata": {},
   "source": [
    "### Chromatic dispersion Iterative\n",
    "- read a buffer (binary file) into np.array\n",
    "- define a set of coefficients for chromatic disp comp\n",
    "- apply those to the spectra\n",
    "- FFT\n",
    "- (log scaling) optional\n",
    "- measure variance of the image (proxy for contrast)"
   ]
  },
  {
   "cell_type": "code",
   "execution_count": 2,
   "metadata": {},
   "outputs": [],
   "source": [
    "import numpy as np\n",
    "import matplotlib.cbook as cbook #needed to load the binary file\n",
    "import os\n",
    "%matplotlib nbagg\n",
    "import matplotlib.pyplot as plt\n",
    "from scipy.stats import zscore\n",
    "import struct\n",
    "from mpl_toolkits.mplot3d import Axes3D\n",
    "from matplotlib.colors import LightSource\n",
    "import imageio\n",
    "from PIL import Image\n",
    "from matplotlib import cm\n",
    "import tifffile\n",
    "# import opencv as cv2"
   ]
  },
  {
   "cell_type": "code",
   "execution_count": 39,
   "metadata": {
    "code_folding": []
   },
   "outputs": [
    {
     "name": "stdout",
     "output_type": "stream",
     "text": [
      "User AGI selected\n"
     ]
    }
   ],
   "source": [
    "## KEEP ONLY ONE:\n",
    "# user = 'ELA'\n",
    "user = 'AGI'\n",
    "print(f\"User {user} selected\")\n",
    "\n",
    "# file = r\"C:\\Users\\lucab\\Google Drive\\01 - OCT\\Axial Resolution and sampling\\test_1_trLVL163_delay16_ND4_Depth_150mm.bin\"\n",
    "# file = r\"C:\\Users\\lucab\\Google Drive\\01 - OCT\\Axial Resolution and sampling\\12mm\"\n",
    "file = r\"/Users/fabioferoldi/Box/AGI/OCT data/2020.03.13_20112R_ganglion_imaging/test_03.bin\"\n",
    "fname = os.path.basename(file)\n",
    "\n",
    "name_img_int = fname[:-4]+'_intensity.tif'\n",
    "name_img_phase = fname[:-4]+'_phase.tif'"
   ]
  },
  {
   "cell_type": "code",
   "execution_count": 26,
   "metadata": {
    "code_folding": []
   },
   "outputs": [
    {
     "name": "stdout",
     "output_type": "stream",
     "text": [
      "256 Spectrum_size 1504 FFT_size 2048 Buffer_size 1000 Fast_axis_pixels  512 ampl(mV) 1300 offset(mV)     0 Slow_axis_pixels  300 ampl(mV) 1300 offset(mV)     0   163                                                                                           \n"
     ]
    }
   ],
   "source": [
    "## To read the length of the header, from\n",
    "# https://books.google.nl/books?id=bIZHCgAAQBAJ&pg=PT149&lpg=PT149&dq=matplotlib+cbook+for+binary+with+header&source=bl&ots=mOirMtJP6U&sig=ACfU3U1Slj4Y2r4Xkl4sKuFsBna9Syog6A&hl=en&sa=X&ved=2ahUKEwiY34fLn9fpAhUL8KQKHaIFD-oQ6AEwBHoECAoQAQ#v=onepage&q=matplotlib%20cbook%20for%20binary%20with%20header&f=false  \n",
    "with open(file, 'rb') as fp:\n",
    "    img = memoryview(fp.read())\n",
    "    \n",
    "if user == 'AGI':\n",
    "    header_size = 256\n",
    "    header_length_format = '>'+str(header_size)+'c'# the first 3 blocks of 16bytes define the header's length\n",
    "    header = img[:header_size] # first 256 char\n",
    "    header = struct.unpack(header_length_format, header)\n",
    "    #### missing: converting the separate bytes into one variable header[18:22]\n",
    "    h = \"\".join([el.decode('utf-8') for el in header])\n",
    "    print(h)\n",
    "    spectrumsize = int(h[18:22])\n",
    "    fftsize = int(h[32:36])\n",
    "    linesize = int(3/2*fftsize)\n",
    "    bscansize = int(h[49:53])\n",
    "    datatype = np.dtype('>i2')\n",
    "    del header\n",
    "elif user == 'ELA':\n",
    "    datatype = np.dtype('u2')\n",
    "    header_size = 0\n",
    "    linesize = 2048\n",
    "    bscansize  = 256\n",
    "    spectrumsize = 2048\n",
    "\n",
    "filesize = os.path.getsize(file) - header_size  \n",
    "buffersize = linesize * bscansize * datatype.itemsize\n",
    "cscansize = (filesize-header_size) // buffersize"
   ]
  },
  {
   "cell_type": "code",
   "execution_count": 38,
   "metadata": {},
   "outputs": [
    {
     "name": "stdout",
     "output_type": "stream",
     "text": [
      "4096\n",
      "1504\n"
     ]
    }
   ],
   "source": [
    "## Iteration over all the frames\n",
    "cscansize = 3\n",
    "\n",
    "# the parameteres of the polynomial need to be found with the dedicated code\n",
    "a3 = 0.857\n",
    "a2 = 1.667\n",
    "# create k-space and normalize it\n",
    "k = np.arange(spectrumsize)\n",
    "k = zscore(k)\n",
    "\n",
    "curve = np.polyval([a3, a2, 0, 0], k)\n",
    "disp_comp = np.exp(1j*curve, dtype='complex64').reshape(spectrumsize,1)\n",
    "\n",
    "spectrum_size_padded = 2 # or 1, for what it matters\n",
    "padding_factor = 2\n",
    "while spectrumsize > spectrum_size_padded:\n",
    "    spectrum_size_padded *= 2\n",
    "spectrum_size_padded = spectrum_size_padded*padding_factor\n",
    "\n",
    "print(spectrum_size_padded)\n",
    "print(spectrumsize)\n",
    "min_v = 110\n",
    "max_v = 70\n",
    "            \n",
    "for i in range(cscansize):\n",
    "\n",
    "    raw = np.frombuffer(img[header_size+i*buffersize:header_size+(i+1)*buffersize], \n",
    "                        dtype=datatype )\n",
    "    raw = raw.reshape((bscansize, linesize)).T\n",
    "\n",
    "    # AGI's A-scans have the FFT's magnitude appended - we remove it\n",
    "    if user=='AGI': raw = raw[:spectrumsize, :]\n",
    "\n",
    "    # apply Hanning window\n",
    "    raw = np.multiply( \n",
    "            raw, \n",
    "            np.hanning(spectrumsize).reshape(spectrumsize,1)) # reshape is only a view, no extra memory ussage\n",
    "\n",
    "         \n",
    "    raw = np.multiply(raw, disp_comp, dtype='complex128') # apply disp compensation\n",
    "    \n",
    "    # zeropad (best way is to split the spectrum, invert the parts and put zeros in between)        \n",
    "    raw = np.concatenate((\n",
    "        raw[ int(spectrumsize/2) : , :],\n",
    "        np.zeros( (spectrum_size_padded-spectrumsize, bscansize), dtype='complex128' ),\n",
    "        raw[ : int(spectrumsize/2) , :]\n",
    "    ))\n",
    "    \n",
    "    fft = np.fft.fft(raw, axis = 0)[:spectrum_size_padded//2] # extract fft\n",
    "                   \n",
    "    ampl = np.abs(fft).astype('float128') \n",
    "    phase = np.angle(fft).astype('float128') \n",
    "    \n",
    "    #     bscan = 20*np.log10(\n",
    "#                     np.abs(\n",
    "#                         np.fft.fft(raw, axis = 0)[:spectrumsize//2] # this can be done on GPU! \n",
    "#                     ),\n",
    "#                 dtype = np.float\n",
    "#         )\n",
    "    bscan_int = 20*np.log10(ampl) \n",
    "    bscan_img = (bscan_int - min_v)/(max_v-min_v)\n",
    "    bscan_img[bscan_img > 1] = 1\n",
    "    bscan_img[bscan_img < 0] = 0     \n",
    "    bscan_img=(bscan_img*255).astype(np.uint8)\n",
    "    \n",
    "    phase_img= (((phase+np.pi)/(2*np.pi))*255).astype(np.uint8)\n",
    "    \n",
    "    if i==0:\n",
    "        with tifffile.TiffWriter(name_img_int) as tif:\n",
    "            tif.save(bscan_img)   \n",
    "        with tifffile.TiffWriter(name_img_phase) as tif:\n",
    "            tif.save(phase_img)   \n",
    "    else:\n",
    "        tifffile.imwrite(name_img_int, bscan_img, append=True)\n",
    "        tifffile.imwrite(name_img_phase, phase_img, append=True)"
   ]
  },
  {
   "cell_type": "code",
   "execution_count": null,
   "metadata": {},
   "outputs": [],
   "source": []
  }
 ],
 "metadata": {
  "kernelspec": {
   "display_name": "Python 3",
   "language": "python",
   "name": "python3"
  },
  "language_info": {
   "codemirror_mode": {
    "name": "ipython",
    "version": 3
   },
   "file_extension": ".py",
   "mimetype": "text/x-python",
   "name": "python",
   "nbconvert_exporter": "python",
   "pygments_lexer": "ipython3",
   "version": "3.8.3"
  },
  "varInspector": {
   "cols": {
    "lenName": 16,
    "lenType": 16,
    "lenVar": 40
   },
   "kernels_config": {
    "python": {
     "delete_cmd_postfix": "",
     "delete_cmd_prefix": "del ",
     "library": "var_list.py",
     "varRefreshCmd": "print(var_dic_list())"
    },
    "r": {
     "delete_cmd_postfix": ") ",
     "delete_cmd_prefix": "rm(",
     "library": "var_list.r",
     "varRefreshCmd": "cat(var_dic_list()) "
    }
   },
   "types_to_exclude": [
    "module",
    "function",
    "builtin_function_or_method",
    "instance",
    "_Feature"
   ],
   "window_display": false
  }
 },
 "nbformat": 4,
 "nbformat_minor": 2
}
