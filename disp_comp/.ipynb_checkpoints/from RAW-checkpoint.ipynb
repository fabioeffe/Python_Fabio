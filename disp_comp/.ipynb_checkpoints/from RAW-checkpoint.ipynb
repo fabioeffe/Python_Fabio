{
 "cells": [
  {
   "cell_type": "code",
   "execution_count": 8,
   "metadata": {
    "scrolled": true
   },
   "outputs": [],
   "source": [
    "import numpy as np\n",
    "import matplotlib.cbook as cbook #needed to load the binary file\n",
    "import os\n",
    "%matplotlib nbagg\n",
    "import matplotlib.pyplot as plt\n",
    "from scipy.stats import zscore\n",
    "import struct"
   ]
  },
  {
   "cell_type": "code",
   "execution_count": null,
   "metadata": {
    "code_folding": [],
    "scrolled": true
   },
   "outputs": [],
   "source": [
    "# path management\n",
    "file = r\"C:\\Users\\lucab\\Google Drive\\01 - OCT\\Axial Resolution and sampling\\12mm\"\n",
    "# file = r\"C:\\Users\\lucab\\Google Drive\\01 - OCT\\Axial Resolution and sampling\\test_1_trLVL163_delay16_ND4_Depth_150mm.bin\"\n",
    "path = os.path.normpath(file) # to uniform slashes and backslashes in paths\n",
    "name = os.path.basename(path)\n",
    "folder = os.path.dirname(path)\n",
    "\n",
    "N_samples = 2048 # N points acquired from photodiode - take from header \n",
    "filesize = os.path.getsize(path)\n",
    "width = int(filesize/(N_samples*2))\n",
    "\n",
    "has_header = False \n",
    "\n",
    "# # reading a binary file - big or little endian\n",
    "with cbook.get_sample_data(path) as f:\n",
    "    raw = np.frombuffer(f.read(), dtype=\"u2\").reshape(\n",
    "                (width, N_samples)).T\n",
    "\n",
    "chunk_type = \">u2\" # https://numpy.org/devdocs/user/basics.types.html\n",
    "# header management\n",
    "header_length = 256\n",
    "header = np.fromfile(file, count = header_length, dtype = 'char')\n",
    "print(header)\n",
    "\n",
    "\n",
    "# raw = np.fromfile(file, dtype=chunk_type).reshape((width, N_samples)).T\n",
    "###\n",
    "\n",
    "print(f\"Successfully read:\\n'{name}' from folder {folder}\\n{raw.shape} px\")"
   ]
  },
  {
   "cell_type": "code",
   "execution_count": 7,
   "metadata": {},
   "outputs": [
    {
     "ename": "FileNotFoundError",
     "evalue": "[Errno 2] No such file or directory: '\\u206812mm'",
     "output_type": "error",
     "traceback": [
      "\u001b[0;31m-----------------------------------------------------------------------\u001b[0m",
      "\u001b[0;31mFileNotFoundError\u001b[0m                     Traceback (most recent call last)",
      "\u001b[0;32m<ipython-input-7-b74a4f4266a2>\u001b[0m in \u001b[0;36m<module>\u001b[0;34m\u001b[0m\n\u001b[1;32m      2\u001b[0m \u001b[0mfile\u001b[0m \u001b[0;34m=\u001b[0m \u001b[0;34mr\"⁨12mm\"\u001b[0m\u001b[0;34m\u001b[0m\u001b[0;34m\u001b[0m\u001b[0m\n\u001b[1;32m      3\u001b[0m \u001b[0mfile\u001b[0m \u001b[0;34m=\u001b[0m \u001b[0mos\u001b[0m\u001b[0;34m.\u001b[0m\u001b[0mpath\u001b[0m\u001b[0;34m.\u001b[0m\u001b[0mnormpath\u001b[0m\u001b[0;34m(\u001b[0m\u001b[0mfile\u001b[0m\u001b[0;34m)\u001b[0m\u001b[0;34m\u001b[0m\u001b[0;34m\u001b[0m\u001b[0m\n\u001b[0;32m----> 4\u001b[0;31m \u001b[0mfilesize\u001b[0m \u001b[0;34m=\u001b[0m \u001b[0mos\u001b[0m\u001b[0;34m.\u001b[0m\u001b[0mpath\u001b[0m\u001b[0;34m.\u001b[0m\u001b[0mgetsize\u001b[0m\u001b[0;34m(\u001b[0m\u001b[0mfile\u001b[0m\u001b[0;34m)\u001b[0m\u001b[0;34m\u001b[0m\u001b[0;34m\u001b[0m\u001b[0m\n\u001b[0m\u001b[1;32m      5\u001b[0m \u001b[0;34m\u001b[0m\u001b[0m\n\u001b[1;32m      6\u001b[0m \u001b[0;31m## To read the length of the header, from\u001b[0m\u001b[0;34m\u001b[0m\u001b[0;34m\u001b[0m\u001b[0;34m\u001b[0m\u001b[0m\n",
      "\u001b[0;32m~/opt/anaconda3/envs/oct/lib/python3.8/genericpath.py\u001b[0m in \u001b[0;36mgetsize\u001b[0;34m(filename)\u001b[0m\n\u001b[1;32m     48\u001b[0m \u001b[0;32mdef\u001b[0m \u001b[0mgetsize\u001b[0m\u001b[0;34m(\u001b[0m\u001b[0mfilename\u001b[0m\u001b[0;34m)\u001b[0m\u001b[0;34m:\u001b[0m\u001b[0;34m\u001b[0m\u001b[0;34m\u001b[0m\u001b[0m\n\u001b[1;32m     49\u001b[0m     \u001b[0;34m\"\"\"Return the size of a file, reported by os.stat().\"\"\"\u001b[0m\u001b[0;34m\u001b[0m\u001b[0;34m\u001b[0m\u001b[0m\n\u001b[0;32m---> 50\u001b[0;31m     \u001b[0;32mreturn\u001b[0m \u001b[0mos\u001b[0m\u001b[0;34m.\u001b[0m\u001b[0mstat\u001b[0m\u001b[0;34m(\u001b[0m\u001b[0mfilename\u001b[0m\u001b[0;34m)\u001b[0m\u001b[0;34m.\u001b[0m\u001b[0mst_size\u001b[0m\u001b[0;34m\u001b[0m\u001b[0;34m\u001b[0m\u001b[0m\n\u001b[0m\u001b[1;32m     51\u001b[0m \u001b[0;34m\u001b[0m\u001b[0m\n\u001b[1;32m     52\u001b[0m \u001b[0;34m\u001b[0m\u001b[0m\n",
      "\u001b[0;31mFileNotFoundError\u001b[0m: [Errno 2] No such file or directory: '\\u206812mm'"
     ]
    }
   ],
   "source": [
    "# file = r\"C:\\Users\\lucab\\Google Drive\\01 - OCT\\Axial Resolution and sampling\\test_1_trLVL163_delay16_ND4_Depth_150mm.bin\"\n",
    "file = r\"⁨12mm\"\n",
    "file = os.path.normpath(file)\n",
    "filesize = os.path.getsize(file)\n",
    "\n",
    "## To read the length of the header, from\n",
    "# https://books.google.nl/books?id=bIZHCgAAQBAJ&pg=PT149&lpg=PT149&dq=matplotlib+cbook+for+binary+with+header&source=bl&ots=mOirMtJP6U&sig=ACfU3U1Slj4Y2r4Xkl4sKuFsBna9Syog6A&hl=en&sa=X&ved=2ahUKEwiY34fLn9fpAhUL8KQKHaIFD-oQ6AEwBHoECAoQAQ#v=onepage&q=matplotlib%20cbook%20for%20binary%20with%20header&f=false  \n",
    "with open(file, 'rb') as fp:\n",
    "    img = memoryview(fp.read())\n",
    "fabio = False\n",
    "\n",
    "if fabio:\n",
    "    header_size = 256\n",
    "    header_length_format = '>'+str(header_size)+'c'# the first 3 blocks of 16bytes define the header's length\n",
    "    header = img[:header_size] # first 256 char\n",
    "    header = struct.unpack(header_length_format, header)\n",
    "    #### missing: converting the separate bytes into one variable header[18:22]\n",
    "    h = \"\".join([el.decode('utf-8') for el in header])\n",
    "    print(h)\n",
    "    spectrumsize = int(h[18:22])\n",
    "    fftsize = int(h[32:36])\n",
    "    linesize = int(3/2*fftsize)\n",
    "    bscansize = int(h[49:53])\n",
    "    datatype = np.dtype('>i2')\n",
    "    buffersize = linesize * bscansize * datatype.itemsize\n",
    "    cscansize = int(filesize/(buffersize))\n",
    "    del header\n",
    "else:\n",
    "    datatype = np.dtype('<u2')\n",
    "    header_size = 0\n",
    "    cscansize = 1\n",
    "    linesize = 2048\n",
    "    bscansize  = 256\n",
    "    spectrumsize = 2048\n",
    "# del img"
   ]
  },
  {
   "cell_type": "code",
   "execution_count": null,
   "metadata": {
    "scrolled": true
   },
   "outputs": [],
   "source": [
    "## You will parse the header appropriately\n",
    "filesize = os.path.getsize(file) - header_size\n",
    "buffersize = linesize * bscansize * datatype.itemsize\n",
    "\n",
    "for i in range(cscansize):\n",
    "    raw = np.frombuffer(\n",
    "            img[header_size+i*buffersize:header_size+(i+1)*buffersize], \n",
    "            dtype=datatype,\n",
    "#             dtype=np.dtype('>i2'),\n",
    "    )\n",
    "    raw = raw.reshape((bscansize, linesize)).T\n",
    "\n",
    "    # fabio's A-scans have the magnitude of the FFT appended - we will ignore it\n",
    "    if fabio: \n",
    "        raw = raw[:spectrumsize, :]\n",
    "\n",
    "    # apply Hanning window\n",
    "    raw = np.multiply(\n",
    "            raw, \n",
    "            np.hanning(spectrumsize).reshape(spectrumsize,1), # reshape is only a view, no extra memory ussage\n",
    "            dtype='float32') \n",
    "\n",
    "    # find/apply chromatic dispersion curve\n",
    "    # we'll apply a chromatic dispersion curve equal and opposed to the system's one\n",
    "    k = np.arange(spectrumsize)\n",
    "    k = zscore(k)\n",
    "    curve = np.polyval([0, -4, 0, 0], k)\n",
    "    disp_comp = np.exp(1j*curve, dtype='complex64').reshape(spectrumsize,1)\n",
    "    raw = np.multiply(raw, disp_comp, dtype='complex64')\n",
    "    \n",
    "    # zeropad (best way is to split the spectrum, invert the parts and put zeros in between)\n",
    "    padded_size = 1024 # or 1, for what it matters\n",
    "    padding_factor = 1\n",
    "    while raw.shape[0] > padded_size*padding_factor:\n",
    "        padded_size *= 2\n",
    "    \n",
    "    raw = np.concatenate((\n",
    "        raw[ int(spectrumsize/2) : , :],\n",
    "        np.zeros( (padded_size-spectrumsize, bscansize), dtype='complex64' ),\n",
    "        raw[ : int(spectrumsize/2) , :]\n",
    "    ))\n",
    "    \n",
    "    # FFT to obtain electric fields   \n",
    "    # -> Modulus\n",
    "    # -> LOG\n",
    "    bscan = np.log(\n",
    "                np.abs(\n",
    "                    np.fft.fft(raw, axis = 0)[:int(len(raw)/2)] # this can be done on GPU! \n",
    "                ),\n",
    "            dtype = np.float\n",
    "    )\n",
    "    \n",
    "    break\n",
    "\n",
    "# del header\n",
    "# del img"
   ]
  },
  {
   "cell_type": "code",
   "execution_count": null,
   "metadata": {},
   "outputs": [],
   "source": []
  },
  {
   "cell_type": "code",
   "execution_count": null,
   "metadata": {
    "scrolled": false
   },
   "outputs": [],
   "source": [
    "fig,ax = plt.subplots()\n",
    "# ax.imshow(bscan)\n",
    "# ax.plot(bscan[:,50])\n",
    "ax.plot(out[:,50])\n",
    "fig.show()"
   ]
  },
  {
   "cell_type": "markdown",
   "metadata": {},
   "source": [
    "### To measure chromatic dispersion:\n",
    "- image a mirror\n",
    "- isolate the peak (gaussian window around peak)\n",
    "- iFFT of that\n",
    "- plot phase in wavenumber space\n",
    "- fit polynomial to find disp_curve coeff (usually 3rd deg) - \n",
    "- constraint must be that 0th and 1st order coeff. are == 0"
   ]
  },
  {
   "cell_type": "code",
   "execution_count": null,
   "metadata": {},
   "outputs": [],
   "source": [
    "fig,ax = plt.subplots()\n",
    "ax.plot(out[:,50])"
   ]
  },
  {
   "cell_type": "markdown",
   "metadata": {},
   "source": [
    "### Chromatic dispersion \n",
    "- read a buffer (binary file) into np.array\n",
    "- define a set of coefficients for chromatic disp comp\n",
    "- apply those to the spectra\n",
    "- FFT\n",
    "- (log scaling) optional\n",
    "- measure variance of the image (proxy for contrast)"
   ]
  }
 ],
 "metadata": {
  "kernelspec": {
   "display_name": "Python 3",
   "language": "python",
   "name": "python3"
  },
  "language_info": {
   "codemirror_mode": {
    "name": "ipython",
    "version": 3
   },
   "file_extension": ".py",
   "mimetype": "text/x-python",
   "name": "python",
   "nbconvert_exporter": "python",
   "pygments_lexer": "ipython3",
   "version": "3.8.3"
  },
  "varInspector": {
   "cols": {
    "lenName": 16,
    "lenType": 16,
    "lenVar": 40
   },
   "kernels_config": {
    "python": {
     "delete_cmd_postfix": "",
     "delete_cmd_prefix": "del ",
     "library": "var_list.py",
     "varRefreshCmd": "print(var_dic_list())"
    },
    "r": {
     "delete_cmd_postfix": ") ",
     "delete_cmd_prefix": "rm(",
     "library": "var_list.r",
     "varRefreshCmd": "cat(var_dic_list()) "
    }
   },
   "types_to_exclude": [
    "module",
    "function",
    "builtin_function_or_method",
    "instance",
    "_Feature"
   ],
   "window_display": false
  }
 },
 "nbformat": 4,
 "nbformat_minor": 2
}
