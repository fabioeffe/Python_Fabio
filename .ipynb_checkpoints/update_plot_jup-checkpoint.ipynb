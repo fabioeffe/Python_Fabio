{
 "cells": [
  {
   "cell_type": "code",
   "execution_count": null,
   "metadata": {},
   "outputs": [],
   "source": [
    "import matplotlib.pyplot as plt\n",
    "import numpy as np\n",
    "\n",
    "x = np.linspace(0, 6*np.pi, 100)\n",
    "y = np.sin(x)\n",
    "\n",
    "# You probably won't need this if you're embedding things in a tkinter plot...\n",
    "plt.ion()\n",
    "\n",
    "fig = plt.figure(\"baba yaga\")\n",
    "ax = fig.add_subplot()\n",
    "line1, = ax.plot(x, y, 'r-') # Returns a tuple of line objects, thus the comma\n",
    "\n",
    "for phase in np.linspace(0, 10*np.pi, 500):\n",
    "    line1.set_ydata(np.sin(x + phase))\n",
    "    fig.canvas.draw()\n",
    "    fig.canvas.flush_events()"
   ]
  }
 ],
 "metadata": {
  "kernelspec": {
   "display_name": "Python 3",
   "language": "python",
   "name": "python3"
  },
  "language_info": {
   "codemirror_mode": {
    "name": "ipython",
    "version": 3
   },
   "file_extension": ".py",
   "mimetype": "text/x-python",
   "name": "python",
   "nbconvert_exporter": "python",
   "pygments_lexer": "ipython3",
   "version": "3.7.6"
  }
 },
 "nbformat": 4,
 "nbformat_minor": 4
}
